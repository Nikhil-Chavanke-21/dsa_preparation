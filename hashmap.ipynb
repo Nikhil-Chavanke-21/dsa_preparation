{
 "cells": [
  {
   "cell_type": "markdown",
   "metadata": {},
   "source": [
    "# all subarray with xor as a number"
   ]
  },
  {
   "cell_type": "code",
   "execution_count": 7,
   "metadata": {},
   "outputs": [
    {
     "name": "stdout",
     "output_type": "stream",
     "text": [
      "[[4, 2], [4, 2, 2, 6, 4], [2, 2, 6], [6]]\n"
     ]
    }
   ],
   "source": [
    "A = [4, 2, 2, 6, 4]\n",
    "B = 6\n",
    "\n",
    "s=0\n",
    "d={0:[0]}\n",
    "for i,x in enumerate(A):\n",
    "    s=s^x\n",
    "    if s in d:\n",
    "        d[s].append(i+1)\n",
    "    else:\n",
    "        d[s]=[i+1]\n",
    "\n",
    "ans=[]\n",
    "for k in d:\n",
    "    other=k^B\n",
    "    if other in d:\n",
    "        for i in d[k]:\n",
    "            for j in d[other]:\n",
    "                ans.append(A[min(i,j):max(i,j)])\n",
    "        d[other]=[]\n",
    "        d[k]=[]\n",
    "print(ans)\n"
   ]
  }
 ],
 "metadata": {
  "kernelspec": {
   "display_name": "Python 3.8.10 64-bit",
   "language": "python",
   "name": "python3"
  },
  "language_info": {
   "codemirror_mode": {
    "name": "ipython",
    "version": 3
   },
   "file_extension": ".py",
   "mimetype": "text/x-python",
   "name": "python",
   "nbconvert_exporter": "python",
   "pygments_lexer": "ipython3",
   "version": "3.8.10"
  },
  "orig_nbformat": 4,
  "vscode": {
   "interpreter": {
    "hash": "916dbcbb3f70747c44a77c7bcd40155683ae19c65e1c03b4aa3499c5328201f1"
   }
  }
 },
 "nbformat": 4,
 "nbformat_minor": 2
}
