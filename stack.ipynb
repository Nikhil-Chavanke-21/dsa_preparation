{
 "cells": [
  {
   "cell_type": "markdown",
   "metadata": {},
   "source": [
    "Valid parentheses"
   ]
  },
  {
   "cell_type": "code",
   "execution_count": null,
   "metadata": {},
   "outputs": [],
   "source": [
    "op=cl=0\n",
    "m=0\n",
    "for c in s:\n",
    "    if c=='(':\n",
    "        op+=1\n",
    "    else:\n",
    "        cl+=1\n",
    "    if cl>op:\n",
    "        op=cl=0\n",
    "    elif op==cl:\n",
    "        m=max(m, op+cl)\n",
    "op=cl=0\n",
    "for c in reversed(s):\n",
    "    if c==')':\n",
    "        op+=1\n",
    "    else:\n",
    "        cl+=1\n",
    "    if cl>op:\n",
    "        op=cl=0\n",
    "    elif op==cl:\n",
    "        m=max(m, op+cl)\n",
    "return m"
   ]
  }
 ],
 "metadata": {
  "language_info": {
   "name": "python"
  },
  "orig_nbformat": 4
 },
 "nbformat": 4,
 "nbformat_minor": 2
}
