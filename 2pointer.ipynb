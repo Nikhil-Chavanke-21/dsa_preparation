{
 "cells": [
  {
   "cell_type": "markdown",
   "metadata": {},
   "source": [
    "# Two pointer Questions #\n",
    "https://youtu.be/ijKmiFqjzi4\n",
    "\n",
    "1.In a sorted array find number of pairs with sum k\n",
    "2.Given 3 sorted array-minimize(max(a,b,c)-min(a,b,c))\n",
    "i=0, j=0, k=0\n",
    "choose index giving minimum of 3 and increment that index\n",
    "TC-fn(next)>fn(curr)\n",
    "3.Maximum water container-1 start, 1 end pointer\n",
    "4.sort 0,1,2 array- 1 start pointer, 1 end pointer, 1 traverse\n",
    "5.Max m flips"
   ]
  },
  {
   "cell_type": "markdown",
   "metadata": {},
   "source": [
    "# N distinct char substring #"
   ]
  },
  {
   "cell_type": "code",
   "execution_count": null,
   "metadata": {},
   "outputs": [],
   "source": [
    "chars=set()\n",
    "l=r=0\n",
    "m=0\n",
    "\n",
    "while r<len(s):\n",
    "    while s[r] in chars:\n",
    "        chars.remove(s[l])\n",
    "        l+=1\n",
    "    chars.add(s[r])\n",
    "    m=max(m, len(chars))\n",
    "    r+=1\n",
    "return m"
   ]
  },
  {
   "cell_type": "markdown",
   "metadata": {},
   "source": [
    "# Max m flips #"
   ]
  },
  {
   "cell_type": "code",
   "execution_count": null,
   "metadata": {},
   "outputs": [],
   "source": [
    "s=e=0\n",
    "l=r=0\n",
    "flips=0\n",
    "a=[1, 0, 0, 1, 1, 0, 1, 0, 1, 1]\n",
    "m=2\n",
    "n=len(a)\n",
    "\n",
    "while e<n:\n",
    "    if flips<=m:\n",
    "        if a[e]==0:\n",
    "            flips+=1\n",
    "        e+=1\n",
    "    if flips>m:\n",
    "        if a[s]==0:\n",
    "            flips-=1\n",
    "        s+=1\n",
    "    if (e-s>r-l) and flips<=m:\n",
    "        l,r=s,e\n",
    "\n",
    "for i in range(l, r):\n",
    "    if a[i]==0:\n",
    "        print(i)\n"
   ]
  }
 ],
 "metadata": {
  "kernelspec": {
   "display_name": "Python 3.8.10 64-bit",
   "language": "python",
   "name": "python3"
  },
  "language_info": {
   "name": "python",
   "version": "3.8.10"
  },
  "orig_nbformat": 4,
  "vscode": {
   "interpreter": {
    "hash": "916dbcbb3f70747c44a77c7bcd40155683ae19c65e1c03b4aa3499c5328201f1"
   }
  }
 },
 "nbformat": 4,
 "nbformat_minor": 2
}
