{
 "cells": [
  {
   "cell_type": "markdown",
   "metadata": {},
   "source": [
    "# Reverse"
   ]
  },
  {
   "cell_type": "code",
   "execution_count": null,
   "metadata": {},
   "outputs": [],
   "source": [
    "def reverse(l):\n",
    "    if not l or not l.next:\n",
    "        return l\n",
    "    p=None\n",
    "    c=l\n",
    "    n=l.next\n",
    "    while c:\n",
    "        c.next=p\n",
    "        p=c\n",
    "        c=n\n",
    "        if n:\n",
    "            n=n.next\n",
    "    return p"
   ]
  },
  {
   "cell_type": "markdown",
   "metadata": {},
   "source": [
    "# Middle"
   ]
  },
  {
   "cell_type": "code",
   "execution_count": null,
   "metadata": {},
   "outputs": [],
   "source": [
    "def middle(l):\n",
    "    if not l or not l.next:\n",
    "        return l\n",
    "    slow=l\n",
    "    fast=l.next\n",
    "    while fast.next and fast.next.next:\n",
    "        slow = slow.next\n",
    "        fast = fast.next.next\n",
    "    temp = slow.next\n",
    "    slow.next=None\n",
    "    return temp"
   ]
  },
  {
   "cell_type": "markdown",
   "metadata": {},
   "source": [
    "# Has Cycle"
   ]
  },
  {
   "cell_type": "code",
   "execution_count": null,
   "metadata": {},
   "outputs": [],
   "source": [
    "slow=head\n",
    "fast=head\n",
    "while fast and fast.next:\n",
    "    slow=slow.next\n",
    "    fast=fast.next.next\n",
    "    if slow==fast:\n",
    "        return True\n",
    "return False"
   ]
  },
  {
   "cell_type": "markdown",
   "metadata": {},
   "source": [
    "# start of cycle"
   ]
  },
  {
   "cell_type": "code",
   "execution_count": null,
   "metadata": {},
   "outputs": [],
   "source": [
    "slow=head\n",
    "fast=head\n",
    "cycle=False\n",
    "while fast and fast.next:\n",
    "    slow=slow.next\n",
    "    fast=fast.next.next\n",
    "    if slow==fast:\n",
    "        cycle=True\n",
    "        break\n",
    "if cycle:\n",
    "    while head!=slow:\n",
    "        head=head.next\n",
    "        slow=slow.next\n",
    "    return head\n",
    "else:\n",
    "    return None"
   ]
  }
 ],
 "metadata": {
  "language_info": {
   "name": "python"
  },
  "orig_nbformat": 4
 },
 "nbformat": 4,
 "nbformat_minor": 2
}
