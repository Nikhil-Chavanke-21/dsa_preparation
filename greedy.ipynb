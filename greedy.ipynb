{
 "cells": [
  {
   "cell_type": "markdown",
   "metadata": {},
   "source": [
    "# N meetings in a room"
   ]
  },
  {
   "cell_type": "code",
   "execution_count": 6,
   "metadata": {},
   "outputs": [
    {
     "name": "stdout",
     "output_type": "stream",
     "text": [
      "[(1, 2), (3, 4), (5, 7), (8, 9)]\n"
     ]
    }
   ],
   "source": [
    "start=[1,3,0,5,8,5]\n",
    "end=[2,4,5,7,9,9]\n",
    "\n",
    "import math\n",
    "meets=[(s,e) for s,e in zip(start, end)]\n",
    "meets.sort(key=lambda x:x[1])\n",
    "\n",
    "free=-math.inf\n",
    "ans=[]\n",
    "\n",
    "for meet in meets:\n",
    "    if meet[0]>=free:\n",
    "        ans.append(meet)\n",
    "        free=meet[1]\n",
    "print(ans)"
   ]
  },
  {
   "cell_type": "markdown",
   "metadata": {},
   "source": [
    "# Minimum number of platforms required for a railway"
   ]
  },
  {
   "cell_type": "code",
   "execution_count": 2,
   "metadata": {},
   "outputs": [
    {
     "name": "stdout",
     "output_type": "stream",
     "text": [
      "3\n"
     ]
    }
   ],
   "source": [
    "start=[12,5,55,20,70,85]\n",
    "end=[60,55,70,50,90,100]\n",
    "\n",
    "start.sort()\n",
    "end.sort()\n",
    "\n",
    "platforms=1\n",
    "i=1\n",
    "j=0\n",
    "m=1\n",
    "while i<len(start):\n",
    "    if start[i]<=end[j]:\n",
    "        platforms+=1\n",
    "        i+=1\n",
    "    else:\n",
    "        platforms-=1\n",
    "        j+=1\n",
    "    m=max(platforms, m)\n",
    "print(m)"
   ]
  },
  {
   "cell_type": "markdown",
   "metadata": {},
   "source": [
    "# Job sequencing Problem"
   ]
  },
  {
   "cell_type": "code",
   "execution_count": 11,
   "metadata": {},
   "outputs": [
    {
     "name": "stdout",
     "output_type": "stream",
     "text": [
      "['a', 'c', 'e']\n"
     ]
    }
   ],
   "source": [
    "import heapq\n",
    "\n",
    "J = [['a', 2, 100],\n",
    "\t['b', 1, 19],\n",
    "\t['c', 2, 27],\n",
    "\t['d', 1, 25],\n",
    "\t['e', 3, 15]]\n",
    "\n",
    "# job_id,deadline,profit\n",
    "n = len(J)\n",
    "result = []\n",
    "maxHeap = []\n",
    "J.sort(key=lambda x: x[1], reverse=True)\n",
    "\n",
    "for i in range(n):\n",
    "\tif i==n-1:\n",
    "\t\tslots_available = J[i][1]\n",
    "\telse:\n",
    "\t\tslots_available = J[i][1]-J[i+1][1]\n",
    "\n",
    "\theapq.heappush(maxHeap, (-J[i][2], J[i][1], J[i][0]))\n",
    "\n",
    "\twhile slots_available and maxHeap:\n",
    "\t\tprofit, deadline, job_id = heapq.heappop(maxHeap)\n",
    "\t\tslots_available -= 1\n",
    "\t\tresult.append([job_id, deadline])\n",
    "\n",
    "result.sort(key=lambda x: x[1])\n",
    "print([x[0] for x in result])\n"
   ]
  }
 ],
 "metadata": {
  "interpreter": {
   "hash": "916dbcbb3f70747c44a77c7bcd40155683ae19c65e1c03b4aa3499c5328201f1"
  },
  "kernelspec": {
   "display_name": "Python 3.8.10 64-bit",
   "language": "python",
   "name": "python3"
  },
  "language_info": {
   "codemirror_mode": {
    "name": "ipython",
    "version": 3
   },
   "file_extension": ".py",
   "mimetype": "text/x-python",
   "name": "python",
   "nbconvert_exporter": "python",
   "pygments_lexer": "ipython3",
   "version": "3.8.10"
  },
  "orig_nbformat": 4
 },
 "nbformat": 4,
 "nbformat_minor": 2
}
