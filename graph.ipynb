{
 "cells": [
  {
   "cell_type": "markdown",
   "metadata": {},
   "source": [
    "# Graph\n",
    "\n",
    "# Tips --------------------------------------\n",
    "Use BFS in graphs. BFS will take polynomial time, DFS will take exponential time.\n",
    "If using Queue in BFS, mark visited when added to queue itself, otherwise time limit exceeded will happen.\n"
   ]
  },
  {
   "cell_type": "code",
   "execution_count": 34,
   "metadata": {},
   "outputs": [
    {
     "name": "stdout",
     "output_type": "stream",
     "text": [
      "True\n"
     ]
    }
   ],
   "source": [
    "# cycle detection in undirected graph bfs/dfs\n",
    "# 0--1--2\n",
    "# 3--4--5\n",
    "#    |  |\n",
    "#    7--6\n",
    "from queue import Queue, LifoQueue\n",
    "\n",
    "n=8\n",
    "edges=[[0,1],[1,2],[3,4],[4,5],[5,6],[6,7],[7,4]]\n",
    "E=[]\n",
    "for _ in range(n):\n",
    "  E.append([])\n",
    "for x,y in edges:\n",
    "  E[x].append(y)\n",
    "  E[y].append(x)\n",
    "\n",
    "visited = [False]*n\n",
    "\n",
    "# using bfs\n",
    "def bfs(i):\n",
    "  q=Queue()\n",
    "  q.put((i, -1))\n",
    "\n",
    "  while not q.empty():\n",
    "    curr, parent=q.get()\n",
    "    visited[curr]=True\n",
    "    for x in E[curr]:\n",
    "      if visited[x] and x!=parent:\n",
    "        return True\n",
    "      if not visited[x]:\n",
    "        q.put((x, curr))\n",
    "  return False\n",
    "\n",
    "ans=False\n",
    "for i in range(n):\n",
    "  if not visited[i]:\n",
    "    ans = ans or bfs(i)\n",
    "print(ans)"
   ]
  },
  {
   "cell_type": "code",
   "execution_count": 28,
   "metadata": {},
   "outputs": [
    {
     "name": "stdout",
     "output_type": "stream",
     "text": [
      "[4, 5, 0, 2, 3, 1]\n",
      "True\n"
     ]
    }
   ],
   "source": [
    "# Kahn's Algorithm\n",
    "# topological sort of directed graph using bfs\n",
    "# 5 --> 0 <-- 4\n",
    "# |           |\n",
    "# V           V\n",
    "# 2 --> 3 --> 1\n",
    "from queue import Queue\n",
    "\n",
    "n=6\n",
    "edges=[[5,0],[4,0],[5,2],[4,1],[2,3],[3,1]]\n",
    "\n",
    "ii=[0]*n\n",
    "E=[]\n",
    "for _ in range(n):\n",
    "  E.append([])\n",
    "for x,y in edges:\n",
    "  ii[y]+=1\n",
    "  E[x].append(y)\n",
    "\n",
    "q=Queue()\n",
    "for i, c in enumerate(ii):\n",
    "  if c==0:\n",
    "    q.put(i)\n",
    "\n",
    "ans=[]\n",
    "while not q.empty():\n",
    "  curr=q.get()\n",
    "  ans.append(curr)\n",
    "  for x in E[curr]:\n",
    "    if ii[x]!=0:\n",
    "      ii[x]-=1\n",
    "      if ii[x]==0:\n",
    "        q.put(x)\n",
    "print(ans)\n",
    "print(len(ans)==n)"
   ]
  },
  {
   "cell_type": "code",
   "execution_count": 41,
   "metadata": {},
   "outputs": [
    {
     "name": "stdout",
     "output_type": "stream",
     "text": [
      "False\n"
     ]
    }
   ],
   "source": [
    "# Bipartite graph?\n",
    "from queue import Queue\n",
    "\n",
    "n=8\n",
    "# not bipartite\n",
    "edges = [[0,1], [1,2], [2,3], [3,4], [4,5], [5,1], [4,7]]\n",
    "# bipartite\n",
    "# edges = [[0,1], [1,2], [2,3], [3,4], [4,5], [5,6], [6,1], [4,7]]\n",
    "\n",
    "E=[]\n",
    "for _ in range(n):\n",
    "  E.append([])\n",
    "for x,y in edges:\n",
    "  E[x].append(y)\n",
    "  E[y].append(x)\n",
    "\n",
    "c=[-1]*n\n",
    "c[0]=0\n",
    "def bipartite(i):\n",
    "  q=Queue()\n",
    "  q.put(i)\n",
    "\n",
    "  while not q.empty():\n",
    "    curr=q.get()\n",
    "    for x in E[curr]:\n",
    "      if c[x]==-1:\n",
    "        c[x]=1-c[curr]\n",
    "        q.put(x)\n",
    "      elif (c[x]+c[curr])!=1:\n",
    "        return False\n",
    "  return c\n",
    "\n",
    "\n",
    "print(bipartite(0))"
   ]
  },
  {
   "cell_type": "code",
   "execution_count": 1,
   "metadata": {},
   "outputs": [
    {
     "name": "stdout",
     "output_type": "stream",
     "text": [
      "[0, 2, inf, 1, inf]\n",
      "[0, 2, 4, 1, 5]\n"
     ]
    }
   ],
   "source": [
    "# Dijkstra's Algorithm(shortest path in undirected/directed graph)\n",
    "import math\n",
    "import heapq\n",
    "\n",
    "n=5\n",
    "edges=[(0,1,2),(0,3,1),(2,3,3),(2,1,4),(1,4,5),(2,4,1)]\n",
    "E=[]\n",
    "for _ in range(n):\n",
    "    E.append({})\n",
    "\n",
    "for x,y,w in edges:\n",
    "    E[x][y]=w\n",
    "    E[y][x]=w\n",
    "\n",
    "D=[math.inf]*n\n",
    "D[0] = 0\n",
    "visited = [False]*n\n",
    "\n",
    "for _ in range(n):\n",
    "    m=math.inf\n",
    "    u=-1\n",
    "\n",
    "    for v in range(n):\n",
    "        if not visited[v] and D[v]<m:\n",
    "            m=D[v]\n",
    "            u=v\n",
    "    if u!=-1:\n",
    "        visited[u]=1\n",
    "    for v, w in E[u].items():\n",
    "        if not visited[v] and D[v]>D[u]+w:\n",
    "            D[v]=D[u]+w\n",
    "\n",
    "print(D)\n",
    "\n",
    "heap=[(0, 0)]\n",
    "visited = [False]*n\n",
    "D=[math.inf]*n\n",
    "while heap:\n",
    "    w, u=heapq.heappop(heap)\n",
    "    if visited[u]:\n",
    "        continue\n",
    "    visited[u]=True\n",
    "    D[u]=w\n",
    "    for v, k in E[u].items():\n",
    "        heapq.heappush(heap, (w+k, v))\n",
    "print(D)"
   ]
  },
  {
   "cell_type": "code",
   "execution_count": 54,
   "metadata": {},
   "outputs": [
    {
     "name": "stdout",
     "output_type": "stream",
     "text": [
      "Cycles present\n",
      "[0, -9, -7, -4, -6, -5]\n"
     ]
    }
   ],
   "source": [
    "# Bellman Ford Algorithm\n",
    "import math\n",
    "\n",
    "n=6\n",
    "E = [(3,2,6), (5,3,1), (0,1,5), (1,5,-3), (2,1,-2), (3,4,-2), (2,4,3)]\n",
    "\n",
    "D=[math.inf]*n\n",
    "D[0]=0\n",
    "\n",
    "for i in range(n):\n",
    "    relaxed=False\n",
    "    for u, v, w in E:\n",
    "        if D[v]>D[u]+w:\n",
    "            D[v]=D[u]+w\n",
    "            relaxed=True\n",
    "    if not relaxed:\n",
    "        print('Done')\n",
    "        break\n",
    "    elif i==n-1:\n",
    "        print('Cycles present')\n",
    "print(D)\n"
   ]
  },
  {
   "cell_type": "code",
   "execution_count": 4,
   "metadata": {},
   "outputs": [
    {
     "name": "stdout",
     "output_type": "stream",
     "text": [
      "[-1, 0, 3, 0, 2]\n",
      "[0, 2, 3, 1, 1]\n",
      "[-1, 0, 3, 0, 2]\n",
      "[0, 2, 3, 1, 1]\n"
     ]
    }
   ],
   "source": [
    "##################################### prim's algorithm Elog(V) #####################################\n",
    "import math\n",
    "\n",
    "n = 5\n",
    "edges=[(0,1,2),(0,3,1),(2,3,3),(2,1,4),(1,4,5),(2,4,1)]\n",
    "for _ in range(n):\n",
    "    E.append({})\n",
    "\n",
    "for x, y, w in edges:\n",
    "    E[x][y] = w\n",
    "    E[y][x] = w\n",
    "\n",
    "parent = [-1]*n\n",
    "visited=[False]*n\n",
    "D=[math.inf]*n\n",
    "D[0]=0\n",
    "\n",
    "for _ in range(n):\n",
    "    m=math.inf\n",
    "    u=None\n",
    "    for v in range(n):\n",
    "        if not visited[v] and D[v]<m:\n",
    "            m=D[v]\n",
    "            u=v\n",
    "    if u!=None:\n",
    "        visited[u]=1\n",
    "    for v, w in E[u].items():\n",
    "        if not visited[v] and D[v]>w:\n",
    "            D[v]=w\n",
    "            parent[v]=u\n",
    "\n",
    "print(parent)\n",
    "print(D)\n",
    "\n",
    "parent = [-1]*n\n",
    "heap=[(0, 0, -1)]\n",
    "visited = [False]*n\n",
    "D=[math.inf]*n\n",
    "while heap:\n",
    "    w, u, p=heapq.heappop(heap)\n",
    "    if visited[u]:\n",
    "        continue\n",
    "    visited[u]=True\n",
    "    D[u]=w\n",
    "    parent[u]=p\n",
    "    for v, k in E[u].items():\n",
    "        heapq.heappush(heap, (k, v, u))\n",
    "\n",
    "print(parent)\n",
    "print(D)\n"
   ]
  },
  {
   "cell_type": "code",
   "execution_count": null,
   "metadata": {},
   "outputs": [],
   "source": [
    "##################################### kruskal's algorithm(ElogV) #####################################\n",
    "def findParent(i):\n",
    "    while P[i] != i:\n",
    "        i = P[i]\n",
    "    return i\n",
    "\n",
    "def union(x, y):\n",
    "    # x=findParent(u)\n",
    "    # y=findParent(v)\n",
    "    if R[x] < R[y]:\n",
    "        P[x] = y\n",
    "    elif R[x] > R[y]:\n",
    "        P[y] = x\n",
    "    else:\n",
    "        P[y] = x\n",
    "        R[x] += 1\n",
    "\n",
    "\n",
    "n = len(V)    # its length\n",
    "E = []        # each element [u, v, w]\n",
    "R = [0]*n\n",
    "P = list(range(n))\n",
    "\n",
    "T = []\n",
    "E = sorted(E, key=lambda x: x[2])\n",
    "\n",
    "for u, v, w in E:\n",
    "    if len(T) > n-1:\n",
    "        break\n",
    "    x = findParent(u)\n",
    "    y = findParent(v)\n",
    "    if x != y:\n",
    "        T.append([u, v, w])\n",
    "        union(x, y)\n",
    "\n",
    "minimumCost = 0\n",
    "for u, v, weight in result:\n",
    "    minimumCost += weight\n",
    "    print(u, v, weight)\n",
    "print(minimumCost)"
   ]
  }
 ],
 "metadata": {
  "kernelspec": {
   "display_name": "Python 3.8.10 64-bit",
   "language": "python",
   "name": "python3"
  },
  "language_info": {
   "codemirror_mode": {
    "name": "ipython",
    "version": 3
   },
   "file_extension": ".py",
   "mimetype": "text/x-python",
   "name": "python",
   "nbconvert_exporter": "python",
   "pygments_lexer": "ipython3",
   "version": "3.8.10"
  },
  "orig_nbformat": 4,
  "vscode": {
   "interpreter": {
    "hash": "916dbcbb3f70747c44a77c7bcd40155683ae19c65e1c03b4aa3499c5328201f1"
   }
  }
 },
 "nbformat": 4,
 "nbformat_minor": 2
}
