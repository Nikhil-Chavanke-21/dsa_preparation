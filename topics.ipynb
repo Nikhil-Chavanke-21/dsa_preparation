{
 "cells": [
  {
   "cell_type": "markdown",
   "metadata": {},
   "source": [
    "# Syllabus:\n",
    "# Numbers ----------------------------------\n",
    "Catalan"
   ]
  },
  {
   "cell_type": "markdown",
   "metadata": {},
   "source": [
    "# Sorting ----------------------------------\n",
    "insertion                                    - pick next and insert at correct position in sorted array\n",
    "selection                                    - take smallest and place to leftmost\n",
    "bubble                                       - run iterations of swaps\n",
    "cyclic                                      \n",
    "merge                                       \n",
    "quick                                        - good on already sorted array\n",
    "count                                   \n",
    "radix\n",
    "heap sort"
   ]
  },
  {
   "cell_type": "markdown",
   "metadata": {},
   "source": [
    "# Recursion --------------------------------\n",
    "Introduction\n",
    "how to master\n",
    "flow of program\n",
    "tree building\n",
    "tail recursion\n",
    "sorting\n",
    "string\n",
    "array\n",
    "pattern\n",
    "subset questions"
   ]
  },
  {
   "cell_type": "markdown",
   "metadata": {},
   "source": [
    "# Time and space complexity -----------------\n",
    "Introduction\n",
    "various cases\n",
    "linear recurrence\n",
    "divide-n-conquer recurrence\n",
    "notations\n",
    "solving recurrences\n",
    "space complexity\n",
    "NP-completeness"
   ]
  },
  {
   "cell_type": "markdown",
   "metadata": {},
   "source": [
    "# Linked List -------------------------------\n",
    "Introduction\n",
    "singly\n",
    "doubly\n",
    "circular\n",
    "fast and slow pointer\n",
    "cycle detection\n",
    "reversal of Linked List\n",
    "Linked List with recursion"
   ]
  },
  {
   "cell_type": "markdown",
   "metadata": {},
   "source": [
    "# Trees -------------------------------------\n",
    "Introduction to binary trees\n",
    "binary search tress\n",
    "DFS\n",
    "BFS\n",
    "AVL trees\n",
    "segment trees"
   ]
  },
  {
   "cell_type": "markdown",
   "metadata": {},
   "source": [
    "# Hashmaps ----------------------------------\n",
    "Introduction\n",
    "theory\n",
    "comparisions\n",
    "limitations\n",
    "map using Linked List\n",
    "map using Hash\n",
    "sorting\n",
    "chaining\n",
    "probing\n",
    "huffman-encoder"
   ]
  },
  {
   "cell_type": "markdown",
   "metadata": {},
   "source": [
    "# Dynamic programming ----------------------\n",
    "Introduction\n",
    "recursion\n",
    "recursion + dp\n",
    "iteration\n",
    "iteration + space optimized\n",
    "complexity analysis\n",
    "0/1 Knapsack\n",
    "subset questions\n",
    "unbounded knapsack\n",
    "subsequence questions\n",
    "string dp"
   ]
  },
  {
   "cell_type": "markdown",
   "metadata": {},
   "source": [
    "# Searching --------------------------------\n",
    "Linear\n",
    "binary\n",
    "modified binary search"
   ]
  },
  {
   "cell_type": "markdown",
   "metadata": {},
   "source": [
    "# Mathematics ------------------------------\n",
    "Bitwise operators\n",
    "range of data types\n",
    "prime numbers\n",
    "factors\n",
    "modulo properties\n",
    "number theory"
   ]
  },
  {
   "cell_type": "markdown",
   "metadata": {},
   "source": [
    "# Backtracking -----------------------------\n",
    "Introduction\n",
    "Maze problems\n",
    "N-queens\n",
    "N-knights\n",
    "sudoku solver"
   ]
  },
  {
   "cell_type": "markdown",
   "metadata": {},
   "source": [
    "# Object oriented programming --------------\n",
    "Introduction\n",
    "classes\n",
    "objects\n",
    "this\n",
    "properties\n",
    "overloading\n",
    "overriding\n",
    "static\n",
    "packages\n",
    "access control\n",
    "interfaces\n",
    "abstract classes\n",
    "annotations\n",
    "singleton class\n",
    "keywords\n",
    "Object class\n",
    "generics\n",
    "expection handling\n",
    "Vector class\n",
    "Collections framework\n",
    "lmabda expressions\n",
    "enums"
   ]
  },
  {
   "cell_type": "markdown",
   "metadata": {},
   "source": [
    "# Stacks and Queues -------------------------\n",
    "Introduction\n",
    "push efficient\n",
    "pop efficient\n",
    "queue using stack and vice versa\n",
    "circular queue"
   ]
  },
  {
   "cell_type": "markdown",
   "metadata": {},
   "source": [
    "# Heaps -------------------------------------\n",
    "Introduction\n",
    "theory\n",
    "priority queue\n",
    "heapsort\n",
    "two heaps method\n",
    "k-way merge\n",
    "top-k elements\n",
    "interval problems   "
   ]
  },
  {
   "cell_type": "markdown",
   "metadata": {},
   "source": [
    "# Graph theory ------------------------------\n",
    "Introduction\n",
    "BFS\n",
    "DFS\n",
    "components\n",
    "minimum spanning trees\n",
    "Kruskal\n",
    "Prims\n",
    "Dijkstra's shortest path\n",
    "topological sort\n",
    "Bellman ford\n",
    "A* pathfinding"
   ]
  },
  {
   "cell_type": "markdown",
   "metadata": {},
   "source": [
    "# Additonal topics --------------------------\n",
    "Greedy algorithms\n",
    "tries\n",
    "sliding window\n",
    "two pointer\n",
    "kadane algorithm"
   ]
  }
 ],
 "metadata": {
  "language_info": {
   "name": "python"
  },
  "orig_nbformat": 4
 },
 "nbformat": 4,
 "nbformat_minor": 2
}
