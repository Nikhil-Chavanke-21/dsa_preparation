{
 "cells": [
  {
   "cell_type": "markdown",
   "metadata": {},
   "source": [
    "# Cyclic sort"
   ]
  },
  {
   "cell_type": "code",
   "execution_count": null,
   "metadata": {},
   "outputs": [],
   "source": [
    "n=len(nums)-1\n",
    "i=0\n",
    "while i<=n:\n",
    "    val=nums[i]\n",
    "    if nums[val-1]==val:\n",
    "        i+=1\n",
    "    else:\n",
    "        nums[i], nums[val-1]=nums[val-1], nums[i]\n",
    "return nums[-1]"
   ]
  },
  {
   "cell_type": "markdown",
   "metadata": {},
   "source": [
    "# Sort 012"
   ]
  },
  {
   "cell_type": "code",
   "execution_count": null,
   "metadata": {},
   "outputs": [],
   "source": [
    "n=len(nums)\n",
    "s=0\n",
    "m=0\n",
    "e=n-1\n",
    "while m<=e:\n",
    "    if nums[m]==0:\n",
    "        nums[s], nums[m]=nums[m], nums[s]\n",
    "        s+=1\n",
    "        m+=1\n",
    "    elif nums[m]==2:\n",
    "        nums[e], nums[m]=nums[m], nums[e]\n",
    "        e-=1\n",
    "    else:\n",
    "        m+=1"
   ]
  }
 ],
 "metadata": {
  "language_info": {
   "name": "python"
  },
  "orig_nbformat": 4
 },
 "nbformat": 4,
 "nbformat_minor": 2
}
