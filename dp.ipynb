{
 "cells": [
  {
   "cell_type": "markdown",
   "metadata": {},
   "source": [
    "# Dynamic Programming\n",
    "\n",
    "# Tips--------------------------------\n",
    "Usually brute force will be n^3, dp will reduce it to n^2\n",
    " "
   ]
  },
  {
   "cell_type": "code",
   "execution_count": 11,
   "metadata": {},
   "outputs": [
    {
     "name": "stdout",
     "output_type": "stream",
     "text": [
      "[1, 0, 1, 0]\n",
      "6\n"
     ]
    }
   ],
   "source": [
    "##################################### 0/1 Knapsack Problem #####################################\n",
    "# subset sum problem\n",
    "# Bounded knapsack problem\n",
    "# count number of subsets summing to\n",
    "P = [1, 2, 5, 6]\n",
    "W = [2, 3, 4, 5]\n",
    "T = 6\n",
    "n = len(P)\n",
    "\n",
    "dp = [0]*(T+1)\n",
    "pick = [-1]*(T+1)\n",
    "for i in range(n):\n",
    "    for w in range(T, W[i]-1, -1):\n",
    "        if dp[w] < dp[w-W[i]]+P[i]:\n",
    "            dp[w] = dp[w-W[i]]+P[i]\n",
    "            pick[w] = i\n",
    "B = [0]*n\n",
    "i = T\n",
    "while pick[i] >= 0:\n",
    "    B[pick[i]] += 1\n",
    "    i -= W[pick[i]]\n",
    "print(B)\n",
    "print(dp[T])\n"
   ]
  },
  {
   "cell_type": "code",
   "execution_count": null,
   "metadata": {},
   "outputs": [],
   "source": [
    "# 2d dp\n",
    "M=[]\n",
    "N=[]\n",
    "for st in strs:\n",
    "    m1=0\n",
    "    n1=0\n",
    "    for s in st:\n",
    "        if s=='0':\n",
    "            m1+=1\n",
    "        else:\n",
    "            n1+=1\n",
    "    M.append(m1)\n",
    "    N.append(n1)\n",
    "dp=[]\n",
    "for _ in range(m+1):\n",
    "    dp.append([0]*(n+1))\n",
    "\n",
    "for k in range(len(strs)):\n",
    "    for i in range(m,-1, -1):\n",
    "        for j in range(n,-1, -1):\n",
    "            if i-M[k]>=0 and j-N[k]>=0:\n",
    "                dp[i][j]=max(dp[i][j],dp[i-M[k]][j-N[k]]+1)\n",
    "return dp[m][n]"
   ]
  },
  {
   "cell_type": "code",
   "execution_count": null,
   "metadata": {},
   "outputs": [],
   "source": [
    "# minimum edit distance\n",
    "dp = list(range(len(word1)+1))\n",
    "for s in word2:\n",
    "    temp = dp.copy()\n",
    "    dp[0] += 1\n",
    "    for i in range(len(word1)):\n",
    "        if word1[i] == s:\n",
    "            dp[i+1] = temp[i]\n",
    "        else:\n",
    "            dp[i+1] = min(dp[i], temp[i], temp[i+1])+1\n",
    "return dp[-1]"
   ]
  },
  {
   "cell_type": "code",
   "execution_count": 2,
   "metadata": {},
   "outputs": [
    {
     "name": "stdout",
     "output_type": "stream",
     "text": [
      "9\n"
     ]
    }
   ],
   "source": [
    "s='aaaataaaaa'\n",
    "t='aaaasaaaaa'\n",
    "m=len(s)\n",
    "n=len(t)\n",
    "dp=[0]*(n+1)\n",
    "for c in s:\n",
    "    temp=dp.copy()\n",
    "    for i in range(n):\n",
    "        if t[i]==c:\n",
    "            dp[i+1]=temp[i]+1\n",
    "        else:\n",
    "            dp[i+1]=max(dp[i], temp[i+1])\n",
    "print(dp[-1])"
   ]
  },
  {
   "cell_type": "code",
   "execution_count": 5,
   "metadata": {},
   "outputs": [
    {
     "name": "stdout",
     "output_type": "stream",
     "text": [
      "1\n",
      "x\n"
     ]
    }
   ],
   "source": [
    "##################################### Longest Repeating Subsequence #####################################\n",
    "s = 'axx'\n",
    "t = 'axx'\n",
    "m = len(s)\n",
    "n = len(t)\n",
    "\n",
    "dp = [0]*(m+1)\n",
    "\n",
    "for j in range(n):\n",
    "    temp = dp.copy()\n",
    "    for i in range(1,m+1):\n",
    "        if t[j] == s[i-1] and j != i-1:\n",
    "            dp[i] = temp[i-1]+1\n",
    "        else:\n",
    "            dp[i] = max(dp[i-1], temp[i])\n",
    "print(dp[m])\n",
    "lcs = ''\n",
    "for i in range(m):\n",
    "    if dp[i+1]-dp[i] == 1:\n",
    "        lcs += s[i]\n",
    "print(lcs)\n"
   ]
  },
  {
   "cell_type": "code",
   "execution_count": null,
   "metadata": {},
   "outputs": [],
   "source": [
    "##################################### Coin Change #####################################\n",
    "import math\n",
    "dp = [math.inf]*(t+1)\n",
    "dp[0] = 0\n",
    "for c in coins:\n",
    "    for i in range(c, t+1):\n",
    "        dp[i] = min(dp[i-c]+1, dp[i])\n",
    "return dp[t]"
   ]
  }
 ],
 "metadata": {
  "kernelspec": {
   "display_name": "Python 3.8.10 64-bit",
   "language": "python",
   "name": "python3"
  },
  "language_info": {
   "codemirror_mode": {
    "name": "ipython",
    "version": 3
   },
   "file_extension": ".py",
   "mimetype": "text/x-python",
   "name": "python",
   "nbconvert_exporter": "python",
   "pygments_lexer": "ipython3",
   "version": "3.8.10"
  },
  "orig_nbformat": 4,
  "vscode": {
   "interpreter": {
    "hash": "916dbcbb3f70747c44a77c7bcd40155683ae19c65e1c03b4aa3499c5328201f1"
   }
  }
 },
 "nbformat": 4,
 "nbformat_minor": 2
}
