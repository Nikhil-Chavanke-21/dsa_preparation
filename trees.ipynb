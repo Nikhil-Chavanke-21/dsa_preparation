{
 "cells": [
  {
   "cell_type": "markdown",
   "metadata": {},
   "source": [
    "# Swap Nodes"
   ]
  },
  {
   "cell_type": "code",
   "execution_count": null,
   "metadata": {},
   "outputs": [],
   "source": [
    "def __init__(self):\n",
    "        self.first=None\n",
    "        self.middle=None\n",
    "        self.last=None\n",
    "        self.prev=TreeNode(-math.inf)\n",
    "\n",
    "    def recoverTree(self, root: Optional[TreeNode]) -> None:\n",
    "        def inorder(node):\n",
    "            if not node:\n",
    "                return\n",
    "            inorder(node.left)\n",
    "            if node.val<self.prev.val:\n",
    "                if self.first:\n",
    "                    self.last=node\n",
    "                else:\n",
    "                    self.first=self.prev\n",
    "                    self.middle=node\n",
    "            self.prev=node\n",
    "            inorder(node.right)\n",
    "        inorder(root)\n",
    "        if self.last:\n",
    "            self.first.val, self.last.val=self.last.val, self.first.val\n",
    "        else:\n",
    "            self.first.val, self.middle.val=self.middle.val, self.first.val\n"
   ]
  }
 ],
 "metadata": {
  "language_info": {
   "name": "python"
  },
  "orig_nbformat": 4
 },
 "nbformat": 4,
 "nbformat_minor": 2
}
